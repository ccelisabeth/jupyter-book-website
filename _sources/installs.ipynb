{
 "cells": [
  {
   "cell_type": "code",
   "execution_count": 2,
   "id": "4333aae8-71b4-4935-b74f-aff62089248d",
   "metadata": {},
   "outputs": [
    {
     "name": "stdout",
     "output_type": "stream",
     "text": [
      "Requirement already satisfied: altair in /Users/elisabethcadman/opt/miniconda3/lib/python3.9/site-packages (4.2.0)\n",
      "Requirement already satisfied: vega_datasets in /Users/elisabethcadman/opt/miniconda3/lib/python3.9/site-packages (0.9.0)\n",
      "Requirement already satisfied: toolz in /Users/elisabethcadman/opt/miniconda3/lib/python3.9/site-packages (from altair) (0.12.0)\n",
      "Requirement already satisfied: jinja2 in /Users/elisabethcadman/opt/miniconda3/lib/python3.9/site-packages (from altair) (3.1.2)\n",
      "Requirement already satisfied: entrypoints in /Users/elisabethcadman/opt/miniconda3/lib/python3.9/site-packages (from altair) (0.4)\n",
      "Requirement already satisfied: numpy in /Users/elisabethcadman/opt/miniconda3/lib/python3.9/site-packages (from altair) (1.22.2)\n",
      "Requirement already satisfied: jsonschema>=3.0 in /Users/elisabethcadman/opt/miniconda3/lib/python3.9/site-packages (from altair) (3.2.0)\n",
      "Requirement already satisfied: pandas>=0.18 in /Users/elisabethcadman/opt/miniconda3/lib/python3.9/site-packages (from altair) (1.4.1)\n",
      "Requirement already satisfied: pyrsistent>=0.14.0 in /Users/elisabethcadman/opt/miniconda3/lib/python3.9/site-packages (from jsonschema>=3.0->altair) (0.18.1)\n",
      "Requirement already satisfied: six>=1.11.0 in /Users/elisabethcadman/opt/miniconda3/lib/python3.9/site-packages (from jsonschema>=3.0->altair) (1.16.0)\n",
      "Requirement already satisfied: attrs>=17.4.0 in /Users/elisabethcadman/opt/miniconda3/lib/python3.9/site-packages (from jsonschema>=3.0->altair) (21.4.0)\n",
      "Requirement already satisfied: setuptools in /Users/elisabethcadman/opt/miniconda3/lib/python3.9/site-packages (from jsonschema>=3.0->altair) (61.2.0)\n",
      "Requirement already satisfied: python-dateutil>=2.8.1 in /Users/elisabethcadman/opt/miniconda3/lib/python3.9/site-packages (from pandas>=0.18->altair) (2.8.2)\n",
      "Requirement already satisfied: pytz>=2020.1 in /Users/elisabethcadman/opt/miniconda3/lib/python3.9/site-packages (from pandas>=0.18->altair) (2022.4)\n",
      "Requirement already satisfied: MarkupSafe>=2.0 in /Users/elisabethcadman/opt/miniconda3/lib/python3.9/site-packages (from jinja2->altair) (2.1.1)\n"
     ]
    }
   ],
   "source": [
    "!pip install altair vega_datasets"
   ]
  },
  {
   "cell_type": "code",
   "execution_count": null,
   "id": "aa8e1f57-930a-4f0a-969a-ff85892628cc",
   "metadata": {},
   "outputs": [],
   "source": []
  },
  {
   "cell_type": "code",
   "execution_count": null,
   "id": "feff5b32-4e53-4973-84fe-14c47a1a18a0",
   "metadata": {},
   "outputs": [],
   "source": []
  }
 ],
 "metadata": {
  "kernelspec": {
   "display_name": "Python 3 (ipykernel)",
   "language": "python",
   "name": "python3"
  },
  "language_info": {
   "codemirror_mode": {
    "name": "ipython",
    "version": 3
   },
   "file_extension": ".py",
   "mimetype": "text/x-python",
   "name": "python",
   "nbconvert_exporter": "python",
   "pygments_lexer": "ipython3",
   "version": "3.9.12"
  }
 },
 "nbformat": 4,
 "nbformat_minor": 5
}
