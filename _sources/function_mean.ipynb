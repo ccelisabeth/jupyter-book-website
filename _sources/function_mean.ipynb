{
 "cells": [
  {
   "cell_type": "code",
   "execution_count": 2,
   "id": "e164f5ca-7691-4092-85c7-1070ed68e2c8",
   "metadata": {},
   "outputs": [],
   "source": [
    "def custom_agg(data, grouping_col,action_col, action = 'mean'):\n",
    "    import pandas as pd\n",
    "    \n",
    "    \"\"\"\n",
    "    Given a dataframe, a column and an action, return a dataframe that has been\n",
    "    grouped by the column and an aggregate function applied.\n",
    "    \n",
    "    Parameters\n",
    "    ----------\n",
    "    data : pandas.core.frame.DataFrame\n",
    "        The dataframe to source data from\n",
    "    grouping_col : str\n",
    "        The column by which to group the data\n",
    "    action_col : str\n",
    "        The column to which the action is being applied\n",
    "    action : str, optional\n",
    "        The action to apply to the specified action_col. The default is the \n",
    "        mean action.      \n",
    "        \n",
    "    Returns\n",
    "    -------\n",
    "    pandas.core.frame.DataFrame\n",
    "        A dataframe with the group by column and the result of the action applied.\n",
    "        \n",
    "    Raises\n",
    "    ------\n",
    "    TypeError\n",
    "        If the input argument data is not of type pandas.core.frame.DataFrame\n",
    "    AssertError\n",
    "        If the input argument grouping_col is not in the data columns\n",
    "    AssertError\n",
    "        If the input argument action_col is not in the data columns\n",
    "    \n",
    "    \"\"\"\n",
    "       \n",
    "    # compute the groupby object\n",
    "    res = data.groupby(grouping_col)[action_col].agg([action])\n",
    "    \n",
    "    # convert to a dataframe\n",
    "    res = pd.DataFrame(res)\n",
    "    \n",
    "    # reset the index\n",
    "    res = res.reset_index()\n",
    "    \n",
    "    # return the result\n",
    "    return(res)"
   ]
  },
  {
   "cell_type": "code",
   "execution_count": 3,
   "id": "30014dd4-bd45-40fe-89d8-98829e0e21af",
   "metadata": {},
   "outputs": [
    {
     "ename": "NameError",
     "evalue": "name 'function_mean' is not defined",
     "output_type": "error",
     "traceback": [
      "\u001b[0;31m---------------------------------------------------------------------------\u001b[0m",
      "\u001b[0;31mNameError\u001b[0m                                 Traceback (most recent call last)",
      "Cell \u001b[0;32mIn [3], line 1\u001b[0m\n\u001b[0;32m----> 1\u001b[0m director_average_gross \u001b[38;5;241m=\u001b[39m \u001b[43mfunction_mean\u001b[49m\u001b[38;5;241m.\u001b[39mcustom_agg(movies, \u001b[38;5;124m'\u001b[39m\u001b[38;5;124mdirector\u001b[39m\u001b[38;5;124m'\u001b[39m, \u001b[38;5;124m'\u001b[39m\u001b[38;5;124minflation_adjusted_gross\u001b[39m\u001b[38;5;124m'\u001b[39m)\n\u001b[1;32m      2\u001b[0m director_average_gross\n",
      "\u001b[0;31mNameError\u001b[0m: name 'function_mean' is not defined"
     ]
    }
   ],
   "source": []
  },
  {
   "cell_type": "code",
   "execution_count": null,
   "id": "8293f4db-7f4a-4452-9f44-3f6dc0e467db",
   "metadata": {},
   "outputs": [],
   "source": []
  }
 ],
 "metadata": {
  "kernelspec": {
   "display_name": "Python 3 (ipykernel)",
   "language": "python",
   "name": "python3"
  },
  "language_info": {
   "codemirror_mode": {
    "name": "ipython",
    "version": 3
   },
   "file_extension": ".py",
   "mimetype": "text/x-python",
   "name": "python",
   "nbconvert_exporter": "python",
   "pygments_lexer": "ipython3",
   "version": "3.9.12"
  }
 },
 "nbformat": 4,
 "nbformat_minor": 5
}
